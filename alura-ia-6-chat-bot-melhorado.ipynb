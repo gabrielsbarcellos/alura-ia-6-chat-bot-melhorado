{
  "nbformat": 4,
  "nbformat_minor": 0,
  "metadata": {
    "colab": {
      "provenance": [],
      "authorship_tag": "ABX9TyPs56buq55tbN759HrTlDek",
      "include_colab_link": true
    },
    "kernelspec": {
      "name": "python3",
      "display_name": "Python 3"
    },
    "language_info": {
      "name": "python"
    }
  },
  "cells": [
    {
      "cell_type": "markdown",
      "metadata": {
        "id": "view-in-github",
        "colab_type": "text"
      },
      "source": [
        "<a href=\"https://colab.research.google.com/github/gabrielsbarcellos/alura-ia-6-chat-bot-melhorado/blob/main/alura-ia-6-chat-bot-melhorado.ipynb\" target=\"_parent\"><img src=\"https://colab.research.google.com/assets/colab-badge.svg\" alt=\"Open In Colab\"/></a>"
      ]
    },
    {
      "cell_type": "code",
      "execution_count": null,
      "metadata": {
        "colab": {
          "base_uri": "https://localhost:8080/",
          "height": 372
        },
        "id": "d2SqmYqm4moz",
        "outputId": "b192d15a-f8b5-4915-ec02-9a91b608950c"
      },
      "outputs": [
        {
          "output_type": "stream",
          "name": "stdout",
          "text": [
            "Esperando texto: ASDASD\n",
            "I'm sorry, I don't understand what you're asking.\n",
            "Esperando texto: oi\n",
            "Olá! Como posso ajudá-lo hoje?\n",
            "Esperando texto: fim\n",
            "Chat finalizado!\n"
          ]
        },
        {
          "output_type": "display_data",
          "data": {
            "text/plain": [
              "<IPython.core.display.Markdown object>"
            ],
            "text/markdown": "> **user**: ASDASD"
          },
          "metadata": {}
        },
        {
          "output_type": "stream",
          "name": "stdout",
          "text": [
            "------------------------------------------\n"
          ]
        },
        {
          "output_type": "display_data",
          "data": {
            "text/plain": [
              "<IPython.core.display.Markdown object>"
            ],
            "text/markdown": "> **model**: I'm sorry, I don't understand what you're asking."
          },
          "metadata": {}
        },
        {
          "output_type": "stream",
          "name": "stdout",
          "text": [
            "------------------------------------------\n"
          ]
        },
        {
          "output_type": "display_data",
          "data": {
            "text/plain": [
              "<IPython.core.display.Markdown object>"
            ],
            "text/markdown": "> **user**: oi"
          },
          "metadata": {}
        },
        {
          "output_type": "stream",
          "name": "stdout",
          "text": [
            "------------------------------------------\n"
          ]
        },
        {
          "output_type": "display_data",
          "data": {
            "text/plain": [
              "<IPython.core.display.Markdown object>"
            ],
            "text/markdown": "> **model**: Olá! Como posso ajudá-lo hoje?"
          },
          "metadata": {}
        },
        {
          "output_type": "stream",
          "name": "stdout",
          "text": [
            "------------------------------------------\n"
          ]
        }
      ],
      "source": [
        "!pip install -q -U google-generativeai\n",
        "\n",
        "import google.generativeai as gemini\n",
        "\n",
        "# importa do google colab um objeto especial chamado userdata o qual\n",
        "# pode conter diversas variaveis de ambiente visiveis apenas no colab e apenas\n",
        "# pelo usuário dono das variaveis.\n",
        "from google.colab import userdata\n",
        "\n",
        "# inicia a variavel GOOGLE_API_KEY com o valor real da api key do usuario logado,\n",
        "# (considerando que ela esteja de fato salva no secrets do colab e com a mesma\n",
        "# nomenclatura, MY_GOOGLE_API_KEY)\n",
        "GOOGLE_API_KEY = userdata.get('MY_GOOGLE_API_KEY')\n",
        "\n",
        "gemini.configure(api_key=GOOGLE_API_KEY)\n",
        "\n",
        "generation_config = {\n",
        "    \"candidate_count\": 1,\n",
        "    \"temperature\": 0.5,\n",
        "    \"top_p\": 0.95,\n",
        "    \"top_k\": 35\n",
        "}\n",
        "\n",
        "# BLOCK = [\"BLOCK_NONE\",\"BLOCK_FEW\",\"BLOCK_SOME\",\"BLOCK_MOST\"]\n",
        "\n",
        "safety_settings = {\n",
        "    \"HARASSMENT\": \"BLOCK_NONE\",\n",
        "    \"HATE\": \"BLOCK_NONE\",\n",
        "    \"SEXUAL\": \"BLOCK_NONE\",\n",
        "    \"DANGEROUS\": \"BLOCK_NONE\"\n",
        "}\n",
        "\n",
        "model = gemini.GenerativeModel(\n",
        "    model_name='gemini-1.0-pro',\n",
        "    generation_config=generation_config,\n",
        "    safety_settings = safety_settings\n",
        ")\n",
        "\n",
        "chat = model.start_chat(history=[])\n",
        "\n",
        "prompt = ''\n",
        "while prompt != 'fim':\n",
        "  prompt = input('Esperando texto: ')\n",
        "  if(prompt == 'fim'):\n",
        "    print('Chat finalizado!')\n",
        "  else:\n",
        "    response = chat.send_message(prompt)\n",
        "    print(response.text)\n",
        "\n",
        "import textwrap\n",
        "from IPython.display import display\n",
        "from IPython.display import Markdown\n",
        "\n",
        "def to_markdown(text):\n",
        "  text = text.replace('■',' *')\n",
        "  return Markdown(textwrap.indent(text, '> ', predicate=lambda _: True))\n",
        "\n",
        "for message in chat.history:\n",
        "  display(to_markdown(f'**{message.role}**: {message.parts[0].text}'))\n",
        "  print('------------------------------------------')"
      ]
    }
  ]
}